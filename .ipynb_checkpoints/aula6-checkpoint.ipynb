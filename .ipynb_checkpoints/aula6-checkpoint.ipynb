{
 "cells": [
  {
   "cell_type": "code",
   "execution_count": null,
   "id": "be630cb9-bc3c-482c-9f43-7a9cef705091",
   "metadata": {},
   "outputs": [],
   "source": [
    "#para criar uma matriz:"
   ]
  },
  {
   "cell_type": "code",
   "execution_count": 1,
   "id": "06aa0139-7bd3-4d6a-9663-d876b03c41bc",
   "metadata": {},
   "outputs": [],
   "source": [
    "dicionario1 = {'col-a':range(1,7),\n",
    "              'col-b':['A','B','C','D','E','F'],\n",
    "              'col-c':[5,3,6,9,2,4] }"
   ]
  },
  {
   "cell_type": "code",
   "execution_count": null,
   "id": "e881fbe0-0e6a-4831-8a59-bf903fa7bbe8",
   "metadata": {},
   "outputs": [],
   "source": [
    "#exibindo um elemento do Dataframe criado a partir de um dicionario"
   ]
  },
  {
   "cell_type": "code",
   "execution_count": 2,
   "id": "b0c8876f-5952-4a10-bd03-df11e0892ad8",
   "metadata": {},
   "outputs": [
    {
     "data": {
      "text/plain": [
       "5"
      ]
     },
     "execution_count": 2,
     "metadata": {},
     "output_type": "execute_result"
    }
   ],
   "source": [
    "dicionario1['col-c'][0]"
   ]
  },
  {
   "cell_type": "code",
   "execution_count": null,
   "id": "ce2d9302-0bbb-4b1b-ac03-6950de0f86e4",
   "metadata": {},
   "outputs": [],
   "source": [
    "#fazendo a importação do pandas"
   ]
  },
  {
   "cell_type": "code",
   "execution_count": 3,
   "id": "ed984bf3-c40b-41c0-af72-d89ccf737c70",
   "metadata": {},
   "outputs": [],
   "source": [
    "import pandas as pd"
   ]
  },
  {
   "cell_type": "code",
   "execution_count": null,
   "id": "2d67746b-fda4-41a8-9ccb-7ee0d89cbf0a",
   "metadata": {},
   "outputs": [],
   "source": [
    "#atribuindo o dicionario criado ao dataframe df1"
   ]
  },
  {
   "cell_type": "code",
   "execution_count": 4,
   "id": "460209de-3c43-48fd-95be-220d389be2ee",
   "metadata": {},
   "outputs": [],
   "source": [
    "df1 = pd.DataFrame(dicionario1)"
   ]
  },
  {
   "cell_type": "code",
   "execution_count": null,
   "id": "56de9468-f5bc-485c-af60-abe03441fac7",
   "metadata": {},
   "outputs": [],
   "source": [
    "#exibindo o dataframe criado acima"
   ]
  },
  {
   "cell_type": "code",
   "execution_count": 5,
   "id": "ef8e0615-36b7-4a00-8c52-2ea16de33b33",
   "metadata": {},
   "outputs": [
    {
     "data": {
      "text/html": [
       "<div>\n",
       "<style scoped>\n",
       "    .dataframe tbody tr th:only-of-type {\n",
       "        vertical-align: middle;\n",
       "    }\n",
       "\n",
       "    .dataframe tbody tr th {\n",
       "        vertical-align: top;\n",
       "    }\n",
       "\n",
       "    .dataframe thead th {\n",
       "        text-align: right;\n",
       "    }\n",
       "</style>\n",
       "<table border=\"1\" class=\"dataframe\">\n",
       "  <thead>\n",
       "    <tr style=\"text-align: right;\">\n",
       "      <th></th>\n",
       "      <th>col-a</th>\n",
       "      <th>col-b</th>\n",
       "      <th>col-c</th>\n",
       "    </tr>\n",
       "  </thead>\n",
       "  <tbody>\n",
       "    <tr>\n",
       "      <th>0</th>\n",
       "      <td>1</td>\n",
       "      <td>A</td>\n",
       "      <td>5</td>\n",
       "    </tr>\n",
       "    <tr>\n",
       "      <th>1</th>\n",
       "      <td>2</td>\n",
       "      <td>B</td>\n",
       "      <td>3</td>\n",
       "    </tr>\n",
       "    <tr>\n",
       "      <th>2</th>\n",
       "      <td>3</td>\n",
       "      <td>C</td>\n",
       "      <td>6</td>\n",
       "    </tr>\n",
       "    <tr>\n",
       "      <th>3</th>\n",
       "      <td>4</td>\n",
       "      <td>D</td>\n",
       "      <td>9</td>\n",
       "    </tr>\n",
       "    <tr>\n",
       "      <th>4</th>\n",
       "      <td>5</td>\n",
       "      <td>E</td>\n",
       "      <td>2</td>\n",
       "    </tr>\n",
       "    <tr>\n",
       "      <th>5</th>\n",
       "      <td>6</td>\n",
       "      <td>F</td>\n",
       "      <td>4</td>\n",
       "    </tr>\n",
       "  </tbody>\n",
       "</table>\n",
       "</div>"
      ],
      "text/plain": [
       "   col-a col-b  col-c\n",
       "0      1     A      5\n",
       "1      2     B      3\n",
       "2      3     C      6\n",
       "3      4     D      9\n",
       "4      5     E      2\n",
       "5      6     F      4"
      ]
     },
     "execution_count": 5,
     "metadata": {},
     "output_type": "execute_result"
    }
   ],
   "source": [
    "df1"
   ]
  },
  {
   "cell_type": "code",
   "execution_count": null,
   "id": "ed04f648-8fdc-4774-8883-2269e77c8723",
   "metadata": {},
   "outputs": [],
   "source": []
  }
 ],
 "metadata": {
  "kernelspec": {
   "display_name": "Python 3 (ipykernel)",
   "language": "python",
   "name": "python3"
  },
  "language_info": {
   "codemirror_mode": {
    "name": "ipython",
    "version": 3
   },
   "file_extension": ".py",
   "mimetype": "text/x-python",
   "name": "python",
   "nbconvert_exporter": "python",
   "pygments_lexer": "ipython3",
   "version": "3.10.6"
  }
 },
 "nbformat": 4,
 "nbformat_minor": 5
}
