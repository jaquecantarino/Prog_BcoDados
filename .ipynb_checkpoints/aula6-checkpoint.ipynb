{
 "cells": [
  {
   "cell_type": "code",
   "execution_count": null,
   "id": "be630cb9-bc3c-482c-9f43-7a9cef705091",
   "metadata": {},
   "outputs": [],
   "source": [
    "#para criar uma matriz:"
   ]
  },
  {
   "cell_type": "code",
   "execution_count": 1,
   "id": "06aa0139-7bd3-4d6a-9663-d876b03c41bc",
   "metadata": {},
   "outputs": [],
   "source": [
    "dicionario1 = {'col-a':range(1,7),\n",
    "              'col-b':['A','B','C','D','E','F'],\n",
    "              'col-c':[5,3,6,9,2,4] }"
   ]
  },
  {
   "cell_type": "code",
   "execution_count": null,
   "id": "e881fbe0-0e6a-4831-8a59-bf903fa7bbe8",
   "metadata": {},
   "outputs": [],
   "source": [
    "#exibindo um elemento do Dataframe criado a partir de um dicionario"
   ]
  },
  {
   "cell_type": "code",
   "execution_count": 2,
   "id": "b0c8876f-5952-4a10-bd03-df11e0892ad8",
   "metadata": {},
   "outputs": [
    {
     "data": {
      "text/plain": [
       "5"
      ]
     },
     "execution_count": 2,
     "metadata": {},
     "output_type": "execute_result"
    }
   ],
   "source": [
    "dicionario1['col-c'][0]"
   ]
  },
  {
   "cell_type": "code",
   "execution_count": null,
   "id": "ce2d9302-0bbb-4b1b-ac03-6950de0f86e4",
   "metadata": {},
   "outputs": [],
   "source": [
    "#fazendo a importação do pandas"
   ]
  },
  {
   "cell_type": "code",
   "execution_count": 3,
   "id": "ed984bf3-c40b-41c0-af72-d89ccf737c70",
   "metadata": {},
   "outputs": [],
   "source": [
    "import pandas as pd"
   ]
  },
  {
   "cell_type": "code",
   "execution_count": null,
   "id": "2d67746b-fda4-41a8-9ccb-7ee0d89cbf0a",
   "metadata": {},
   "outputs": [],
   "source": [
    "#atribuindo o dicionario criado ao dataframe df1"
   ]
  },
  {
   "cell_type": "code",
   "execution_count": 4,
   "id": "460209de-3c43-48fd-95be-220d389be2ee",
   "metadata": {},
   "outputs": [],
   "source": [
    "df1 = pd.DataFrame(dicionario1)"
   ]
  },
  {
   "cell_type": "code",
   "execution_count": null,
   "id": "56de9468-f5bc-485c-af60-abe03441fac7",
   "metadata": {},
   "outputs": [],
   "source": [
    "#exibindo o dataframe criado acima - gerando o indice automaticamente pois não atribuimos valor a ele na construção"
   ]
  },
  {
   "cell_type": "code",
   "execution_count": 5,
   "id": "ef8e0615-36b7-4a00-8c52-2ea16de33b33",
   "metadata": {},
   "outputs": [
    {
     "data": {
      "text/html": [
       "<div>\n",
       "<style scoped>\n",
       "    .dataframe tbody tr th:only-of-type {\n",
       "        vertical-align: middle;\n",
       "    }\n",
       "\n",
       "    .dataframe tbody tr th {\n",
       "        vertical-align: top;\n",
       "    }\n",
       "\n",
       "    .dataframe thead th {\n",
       "        text-align: right;\n",
       "    }\n",
       "</style>\n",
       "<table border=\"1\" class=\"dataframe\">\n",
       "  <thead>\n",
       "    <tr style=\"text-align: right;\">\n",
       "      <th></th>\n",
       "      <th>col-a</th>\n",
       "      <th>col-b</th>\n",
       "      <th>col-c</th>\n",
       "    </tr>\n",
       "  </thead>\n",
       "  <tbody>\n",
       "    <tr>\n",
       "      <th>0</th>\n",
       "      <td>1</td>\n",
       "      <td>A</td>\n",
       "      <td>5</td>\n",
       "    </tr>\n",
       "    <tr>\n",
       "      <th>1</th>\n",
       "      <td>2</td>\n",
       "      <td>B</td>\n",
       "      <td>3</td>\n",
       "    </tr>\n",
       "    <tr>\n",
       "      <th>2</th>\n",
       "      <td>3</td>\n",
       "      <td>C</td>\n",
       "      <td>6</td>\n",
       "    </tr>\n",
       "    <tr>\n",
       "      <th>3</th>\n",
       "      <td>4</td>\n",
       "      <td>D</td>\n",
       "      <td>9</td>\n",
       "    </tr>\n",
       "    <tr>\n",
       "      <th>4</th>\n",
       "      <td>5</td>\n",
       "      <td>E</td>\n",
       "      <td>2</td>\n",
       "    </tr>\n",
       "    <tr>\n",
       "      <th>5</th>\n",
       "      <td>6</td>\n",
       "      <td>F</td>\n",
       "      <td>4</td>\n",
       "    </tr>\n",
       "  </tbody>\n",
       "</table>\n",
       "</div>"
      ],
      "text/plain": [
       "   col-a col-b  col-c\n",
       "0      1     A      5\n",
       "1      2     B      3\n",
       "2      3     C      6\n",
       "3      4     D      9\n",
       "4      5     E      2\n",
       "5      6     F      4"
      ]
     },
     "execution_count": 5,
     "metadata": {},
     "output_type": "execute_result"
    }
   ],
   "source": [
    "df1"
   ]
  },
  {
   "cell_type": "code",
   "execution_count": null,
   "id": "ed04f648-8fdc-4774-8883-2269e77c8723",
   "metadata": {},
   "outputs": [],
   "source": [
    "#criando novo dicionario para criar itens de pesquisa"
   ]
  },
  {
   "cell_type": "code",
   "execution_count": 6,
   "id": "feca6d0a-948a-4017-958f-1a28b509f725",
   "metadata": {},
   "outputs": [],
   "source": [
    "dicionario2 = {'col-a':(1,2,3,5,6),\n",
    "               'col-b':['A','B','C','E','F'],\n",
    "               'col-d':[10,20,30,40,50]}"
   ]
  },
  {
   "cell_type": "code",
   "execution_count": null,
   "id": "47b858b4-5da8-46af-b047-ae3294f79068",
   "metadata": {},
   "outputs": [],
   "source": [
    "#criando indice"
   ]
  },
  {
   "cell_type": "code",
   "execution_count": 9,
   "id": "fd38c8b3-3f1b-4b8b-aec9-88f3706f599c",
   "metadata": {},
   "outputs": [],
   "source": [
    "lista_indices = ['linha-1','linha-2','linha-3','linha-4','linha-5']"
   ]
  },
  {
   "cell_type": "code",
   "execution_count": 10,
   "id": "6844cdbc-9a2c-4b5f-99d3-a2bf71d566bc",
   "metadata": {},
   "outputs": [],
   "source": [
    "#atribuindo o dicionario ao dataframe, mas atribuindo também o indice"
   ]
  },
  {
   "cell_type": "code",
   "execution_count": 11,
   "id": "c775d04b-51bc-48a7-87b3-ce0b97a1a91e",
   "metadata": {},
   "outputs": [],
   "source": [
    "df2 = pd.DataFrame(dicionario2,\n",
    "                   index=[lista_indices])"
   ]
  },
  {
   "cell_type": "code",
   "execution_count": 12,
   "id": "8fdd3a27-0afc-467a-8515-ad1f063d00f0",
   "metadata": {},
   "outputs": [
    {
     "data": {
      "text/html": [
       "<div>\n",
       "<style scoped>\n",
       "    .dataframe tbody tr th:only-of-type {\n",
       "        vertical-align: middle;\n",
       "    }\n",
       "\n",
       "    .dataframe tbody tr th {\n",
       "        vertical-align: top;\n",
       "    }\n",
       "\n",
       "    .dataframe thead th {\n",
       "        text-align: right;\n",
       "    }\n",
       "</style>\n",
       "<table border=\"1\" class=\"dataframe\">\n",
       "  <thead>\n",
       "    <tr style=\"text-align: right;\">\n",
       "      <th></th>\n",
       "      <th>col-a</th>\n",
       "      <th>col-b</th>\n",
       "      <th>col-d</th>\n",
       "    </tr>\n",
       "  </thead>\n",
       "  <tbody>\n",
       "    <tr>\n",
       "      <th>linha-1</th>\n",
       "      <td>1</td>\n",
       "      <td>A</td>\n",
       "      <td>10</td>\n",
       "    </tr>\n",
       "    <tr>\n",
       "      <th>linha-2</th>\n",
       "      <td>2</td>\n",
       "      <td>B</td>\n",
       "      <td>20</td>\n",
       "    </tr>\n",
       "    <tr>\n",
       "      <th>linha-3</th>\n",
       "      <td>3</td>\n",
       "      <td>C</td>\n",
       "      <td>30</td>\n",
       "    </tr>\n",
       "    <tr>\n",
       "      <th>linha-4</th>\n",
       "      <td>5</td>\n",
       "      <td>E</td>\n",
       "      <td>40</td>\n",
       "    </tr>\n",
       "    <tr>\n",
       "      <th>linha-5</th>\n",
       "      <td>6</td>\n",
       "      <td>F</td>\n",
       "      <td>50</td>\n",
       "    </tr>\n",
       "  </tbody>\n",
       "</table>\n",
       "</div>"
      ],
      "text/plain": [
       "         col-a col-b  col-d\n",
       "linha-1      1     A     10\n",
       "linha-2      2     B     20\n",
       "linha-3      3     C     30\n",
       "linha-4      5     E     40\n",
       "linha-5      6     F     50"
      ]
     },
     "execution_count": 12,
     "metadata": {},
     "output_type": "execute_result"
    }
   ],
   "source": [
    "df2"
   ]
  },
  {
   "cell_type": "code",
   "execution_count": 13,
   "id": "61c0f3af-8564-42c2-9b01-03e43672da89",
   "metadata": {},
   "outputs": [],
   "source": [
    "#chamando pelo indice da linha, preciso sempre dizer qual coluna quero"
   ]
  },
  {
   "cell_type": "code",
   "execution_count": 16,
   "id": "68c0b90b-edce-4341-8e04-8be873a84348",
   "metadata": {},
   "outputs": [
    {
     "data": {
      "text/plain": [
       "1"
      ]
     },
     "execution_count": 16,
     "metadata": {},
     "output_type": "execute_result"
    }
   ],
   "source": [
    "df2['col-a']['linha-1']"
   ]
  },
  {
   "cell_type": "code",
   "execution_count": 17,
   "id": "43958c47-8f5a-45d7-a8db-cc289d1b4b3a",
   "metadata": {},
   "outputs": [],
   "source": [
    "#unindo dados: Inner Merge: Analisa os dois dfs e traz os valores iguais na mesma coluna, apenas os valores IGUAIS"
   ]
  },
  {
   "cell_type": "code",
   "execution_count": 18,
   "id": "b6a7f40c-ff68-49cb-8773-bb018dd20240",
   "metadata": {},
   "outputs": [],
   "source": [
    "#Criando o merge dentre os dois dfs criados acima"
   ]
  },
  {
   "cell_type": "code",
   "execution_count": 21,
   "id": "c2c39ec7-a10f-4d59-9a87-9cbd29867df5",
   "metadata": {},
   "outputs": [],
   "source": [
    "d3inner = pd.merge(df1,df2)"
   ]
  },
  {
   "cell_type": "code",
   "execution_count": null,
   "id": "24b36143-9dcd-44f3-8875-f86e116d859d",
   "metadata": {},
   "outputs": [],
   "source": [
    "#Traz o retorno do que está igual, no caso a coluna A e B são iguais e permanecem, já as col c, são diferentes então são exibidas separadas.\n",
    "#E as linhas que não são iguais não são exibidas."
   ]
  },
  {
   "cell_type": "code",
   "execution_count": 22,
   "id": "00062306-ba16-40f9-8f6b-3ab1679a5a07",
   "metadata": {},
   "outputs": [
    {
     "data": {
      "text/html": [
       "<div>\n",
       "<style scoped>\n",
       "    .dataframe tbody tr th:only-of-type {\n",
       "        vertical-align: middle;\n",
       "    }\n",
       "\n",
       "    .dataframe tbody tr th {\n",
       "        vertical-align: top;\n",
       "    }\n",
       "\n",
       "    .dataframe thead th {\n",
       "        text-align: right;\n",
       "    }\n",
       "</style>\n",
       "<table border=\"1\" class=\"dataframe\">\n",
       "  <thead>\n",
       "    <tr style=\"text-align: right;\">\n",
       "      <th></th>\n",
       "      <th>col-a</th>\n",
       "      <th>col-b</th>\n",
       "      <th>col-c</th>\n",
       "      <th>col-d</th>\n",
       "    </tr>\n",
       "  </thead>\n",
       "  <tbody>\n",
       "    <tr>\n",
       "      <th>0</th>\n",
       "      <td>1</td>\n",
       "      <td>A</td>\n",
       "      <td>5</td>\n",
       "      <td>10</td>\n",
       "    </tr>\n",
       "    <tr>\n",
       "      <th>1</th>\n",
       "      <td>2</td>\n",
       "      <td>B</td>\n",
       "      <td>3</td>\n",
       "      <td>20</td>\n",
       "    </tr>\n",
       "    <tr>\n",
       "      <th>2</th>\n",
       "      <td>3</td>\n",
       "      <td>C</td>\n",
       "      <td>6</td>\n",
       "      <td>30</td>\n",
       "    </tr>\n",
       "    <tr>\n",
       "      <th>3</th>\n",
       "      <td>5</td>\n",
       "      <td>E</td>\n",
       "      <td>2</td>\n",
       "      <td>40</td>\n",
       "    </tr>\n",
       "    <tr>\n",
       "      <th>4</th>\n",
       "      <td>6</td>\n",
       "      <td>F</td>\n",
       "      <td>4</td>\n",
       "      <td>50</td>\n",
       "    </tr>\n",
       "  </tbody>\n",
       "</table>\n",
       "</div>"
      ],
      "text/plain": [
       "   col-a col-b  col-c  col-d\n",
       "0      1     A      5     10\n",
       "1      2     B      3     20\n",
       "2      3     C      6     30\n",
       "3      5     E      2     40\n",
       "4      6     F      4     50"
      ]
     },
     "execution_count": 22,
     "metadata": {},
     "output_type": "execute_result"
    }
   ],
   "source": [
    "d3inner"
   ]
  },
  {
   "cell_type": "code",
   "execution_count": null,
   "id": "ff1c0de1-04f9-4714-9230-36c8bcfe59ba",
   "metadata": {},
   "outputs": [],
   "source": [
    "#outer merge: funciona parecido com o inner, a diferença é que ao inves que não mostrar o item faltando ele atribui NaN ao fazer a união\n",
    "#dos dfs"
   ]
  },
  {
   "cell_type": "code",
   "execution_count": 24,
   "id": "7604cc75-8076-48ba-b447-f9a678ad4516",
   "metadata": {},
   "outputs": [],
   "source": [
    "#criando o outer merge\n",
    "#how='outer' = indica que não existe um parametro, ambas devem ser referencia,\n",
    "#podemos usar left ou right, quando você quer usar um dos dfs como parametro."
   ]
  },
  {
   "cell_type": "code",
   "execution_count": 25,
   "id": "ca492dc6-6561-464d-85f2-e92794282923",
   "metadata": {},
   "outputs": [],
   "source": [
    "df3outer=pd.merge(df1,df2,how='outer')"
   ]
  },
  {
   "cell_type": "code",
   "execution_count": null,
   "id": "7e5f19d4-9e04-469d-ab0a-5b5b02954022",
   "metadata": {},
   "outputs": [],
   "source": [
    "#exibindo o dataframe criado"
   ]
  },
  {
   "cell_type": "code",
   "execution_count": 26,
   "id": "395e862e-7cd8-4e26-b3e2-4d4ebc9caefe",
   "metadata": {},
   "outputs": [
    {
     "data": {
      "text/html": [
       "<div>\n",
       "<style scoped>\n",
       "    .dataframe tbody tr th:only-of-type {\n",
       "        vertical-align: middle;\n",
       "    }\n",
       "\n",
       "    .dataframe tbody tr th {\n",
       "        vertical-align: top;\n",
       "    }\n",
       "\n",
       "    .dataframe thead th {\n",
       "        text-align: right;\n",
       "    }\n",
       "</style>\n",
       "<table border=\"1\" class=\"dataframe\">\n",
       "  <thead>\n",
       "    <tr style=\"text-align: right;\">\n",
       "      <th></th>\n",
       "      <th>col-a</th>\n",
       "      <th>col-b</th>\n",
       "      <th>col-c</th>\n",
       "      <th>col-d</th>\n",
       "    </tr>\n",
       "  </thead>\n",
       "  <tbody>\n",
       "    <tr>\n",
       "      <th>0</th>\n",
       "      <td>1</td>\n",
       "      <td>A</td>\n",
       "      <td>5</td>\n",
       "      <td>10.0</td>\n",
       "    </tr>\n",
       "    <tr>\n",
       "      <th>1</th>\n",
       "      <td>2</td>\n",
       "      <td>B</td>\n",
       "      <td>3</td>\n",
       "      <td>20.0</td>\n",
       "    </tr>\n",
       "    <tr>\n",
       "      <th>2</th>\n",
       "      <td>3</td>\n",
       "      <td>C</td>\n",
       "      <td>6</td>\n",
       "      <td>30.0</td>\n",
       "    </tr>\n",
       "    <tr>\n",
       "      <th>3</th>\n",
       "      <td>4</td>\n",
       "      <td>D</td>\n",
       "      <td>9</td>\n",
       "      <td>NaN</td>\n",
       "    </tr>\n",
       "    <tr>\n",
       "      <th>4</th>\n",
       "      <td>5</td>\n",
       "      <td>E</td>\n",
       "      <td>2</td>\n",
       "      <td>40.0</td>\n",
       "    </tr>\n",
       "    <tr>\n",
       "      <th>5</th>\n",
       "      <td>6</td>\n",
       "      <td>F</td>\n",
       "      <td>4</td>\n",
       "      <td>50.0</td>\n",
       "    </tr>\n",
       "  </tbody>\n",
       "</table>\n",
       "</div>"
      ],
      "text/plain": [
       "   col-a col-b  col-c  col-d\n",
       "0      1     A      5   10.0\n",
       "1      2     B      3   20.0\n",
       "2      3     C      6   30.0\n",
       "3      4     D      9    NaN\n",
       "4      5     E      2   40.0\n",
       "5      6     F      4   50.0"
      ]
     },
     "execution_count": 26,
     "metadata": {},
     "output_type": "execute_result"
    }
   ],
   "source": [
    "df3outer"
   ]
  },
  {
   "cell_type": "code",
   "execution_count": null,
   "id": "18a189d1-ab58-414f-af0d-f5395d8c13fb",
   "metadata": {},
   "outputs": [],
   "source": [
    "#aplicando as opções usando um dos dataframes como referencia"
   ]
  },
  {
   "cell_type": "code",
   "execution_count": 27,
   "id": "2a97f6f7-aa2b-4123-9388-7d3aa25777c8",
   "metadata": {},
   "outputs": [],
   "source": [
    "df3left=pd.merge(df1,df2,how='left')"
   ]
  },
  {
   "cell_type": "code",
   "execution_count": null,
   "id": "f5707299-df97-43b8-a465-5193d854b993",
   "metadata": {},
   "outputs": [],
   "source": [
    "#observe que nos lugares onde possui valor em col-a da df1 retorna NaN"
   ]
  },
  {
   "cell_type": "code",
   "execution_count": 28,
   "id": "660ebd7e-df3c-4881-98e4-3f5889a58e5f",
   "metadata": {},
   "outputs": [
    {
     "data": {
      "text/html": [
       "<div>\n",
       "<style scoped>\n",
       "    .dataframe tbody tr th:only-of-type {\n",
       "        vertical-align: middle;\n",
       "    }\n",
       "\n",
       "    .dataframe tbody tr th {\n",
       "        vertical-align: top;\n",
       "    }\n",
       "\n",
       "    .dataframe thead th {\n",
       "        text-align: right;\n",
       "    }\n",
       "</style>\n",
       "<table border=\"1\" class=\"dataframe\">\n",
       "  <thead>\n",
       "    <tr style=\"text-align: right;\">\n",
       "      <th></th>\n",
       "      <th>col-a</th>\n",
       "      <th>col-b</th>\n",
       "      <th>col-c</th>\n",
       "      <th>col-d</th>\n",
       "    </tr>\n",
       "  </thead>\n",
       "  <tbody>\n",
       "    <tr>\n",
       "      <th>0</th>\n",
       "      <td>1</td>\n",
       "      <td>A</td>\n",
       "      <td>5</td>\n",
       "      <td>10.0</td>\n",
       "    </tr>\n",
       "    <tr>\n",
       "      <th>1</th>\n",
       "      <td>2</td>\n",
       "      <td>B</td>\n",
       "      <td>3</td>\n",
       "      <td>20.0</td>\n",
       "    </tr>\n",
       "    <tr>\n",
       "      <th>2</th>\n",
       "      <td>3</td>\n",
       "      <td>C</td>\n",
       "      <td>6</td>\n",
       "      <td>30.0</td>\n",
       "    </tr>\n",
       "    <tr>\n",
       "      <th>3</th>\n",
       "      <td>4</td>\n",
       "      <td>D</td>\n",
       "      <td>9</td>\n",
       "      <td>NaN</td>\n",
       "    </tr>\n",
       "    <tr>\n",
       "      <th>4</th>\n",
       "      <td>5</td>\n",
       "      <td>E</td>\n",
       "      <td>2</td>\n",
       "      <td>40.0</td>\n",
       "    </tr>\n",
       "    <tr>\n",
       "      <th>5</th>\n",
       "      <td>6</td>\n",
       "      <td>F</td>\n",
       "      <td>4</td>\n",
       "      <td>50.0</td>\n",
       "    </tr>\n",
       "  </tbody>\n",
       "</table>\n",
       "</div>"
      ],
      "text/plain": [
       "   col-a col-b  col-c  col-d\n",
       "0      1     A      5   10.0\n",
       "1      2     B      3   20.0\n",
       "2      3     C      6   30.0\n",
       "3      4     D      9    NaN\n",
       "4      5     E      2   40.0\n",
       "5      6     F      4   50.0"
      ]
     },
     "execution_count": 28,
     "metadata": {},
     "output_type": "execute_result"
    }
   ],
   "source": [
    "df3left"
   ]
  },
  {
   "cell_type": "code",
   "execution_count": 29,
   "id": "78f443d2-e7ec-419e-8baf-4ea0f671a4ac",
   "metadata": {},
   "outputs": [],
   "source": [
    "df3right=pd.merge(df1,df2,how='right')"
   ]
  },
  {
   "cell_type": "code",
   "execution_count": null,
   "id": "f9d15f74-ad1c-4a1c-9866-ae278525eb9b",
   "metadata": {},
   "outputs": [],
   "source": [
    "#observe que usando o df2 como referencia, ele simplesmente não traz o dado \"\"extra\"\" que temos no df1"
   ]
  },
  {
   "cell_type": "code",
   "execution_count": 30,
   "id": "319c979a-5022-4a76-88a5-5da6f5b858d1",
   "metadata": {},
   "outputs": [
    {
     "data": {
      "text/html": [
       "<div>\n",
       "<style scoped>\n",
       "    .dataframe tbody tr th:only-of-type {\n",
       "        vertical-align: middle;\n",
       "    }\n",
       "\n",
       "    .dataframe tbody tr th {\n",
       "        vertical-align: top;\n",
       "    }\n",
       "\n",
       "    .dataframe thead th {\n",
       "        text-align: right;\n",
       "    }\n",
       "</style>\n",
       "<table border=\"1\" class=\"dataframe\">\n",
       "  <thead>\n",
       "    <tr style=\"text-align: right;\">\n",
       "      <th></th>\n",
       "      <th>col-a</th>\n",
       "      <th>col-b</th>\n",
       "      <th>col-c</th>\n",
       "      <th>col-d</th>\n",
       "    </tr>\n",
       "  </thead>\n",
       "  <tbody>\n",
       "    <tr>\n",
       "      <th>0</th>\n",
       "      <td>1</td>\n",
       "      <td>A</td>\n",
       "      <td>5</td>\n",
       "      <td>10</td>\n",
       "    </tr>\n",
       "    <tr>\n",
       "      <th>1</th>\n",
       "      <td>2</td>\n",
       "      <td>B</td>\n",
       "      <td>3</td>\n",
       "      <td>20</td>\n",
       "    </tr>\n",
       "    <tr>\n",
       "      <th>2</th>\n",
       "      <td>3</td>\n",
       "      <td>C</td>\n",
       "      <td>6</td>\n",
       "      <td>30</td>\n",
       "    </tr>\n",
       "    <tr>\n",
       "      <th>3</th>\n",
       "      <td>5</td>\n",
       "      <td>E</td>\n",
       "      <td>2</td>\n",
       "      <td>40</td>\n",
       "    </tr>\n",
       "    <tr>\n",
       "      <th>4</th>\n",
       "      <td>6</td>\n",
       "      <td>F</td>\n",
       "      <td>4</td>\n",
       "      <td>50</td>\n",
       "    </tr>\n",
       "  </tbody>\n",
       "</table>\n",
       "</div>"
      ],
      "text/plain": [
       "   col-a col-b  col-c  col-d\n",
       "0      1     A      5     10\n",
       "1      2     B      3     20\n",
       "2      3     C      6     30\n",
       "3      5     E      2     40\n",
       "4      6     F      4     50"
      ]
     },
     "execution_count": 30,
     "metadata": {},
     "output_type": "execute_result"
    }
   ],
   "source": [
    "df3right"
   ]
  },
  {
   "cell_type": "code",
   "execution_count": null,
   "id": "4f622df9-7b78-4688-a137-9ec8b6503cb7",
   "metadata": {},
   "outputs": [],
   "source": [
    "#on: usamos uma coluna como referencia, geralmente as colunas que estarão iguais entre os dois dfs, usando ao fazer o merge de dataframes\n",
    "#identifico a coluna de referencia apos os parametros do merge."
   ]
  },
  {
   "cell_type": "code",
   "execution_count": 31,
   "id": "af7a1213-e20c-4acf-9fd4-7018482a39f1",
   "metadata": {},
   "outputs": [],
   "source": [
    "df3ona = pd.merge(df1,df2, on=(\"col-a\"))"
   ]
  },
  {
   "cell_type": "code",
   "execution_count": 32,
   "id": "3f56bb76-bc9a-4e5d-8141-d3331c7a67aa",
   "metadata": {},
   "outputs": [
    {
     "data": {
      "text/html": [
       "<div>\n",
       "<style scoped>\n",
       "    .dataframe tbody tr th:only-of-type {\n",
       "        vertical-align: middle;\n",
       "    }\n",
       "\n",
       "    .dataframe tbody tr th {\n",
       "        vertical-align: top;\n",
       "    }\n",
       "\n",
       "    .dataframe thead th {\n",
       "        text-align: right;\n",
       "    }\n",
       "</style>\n",
       "<table border=\"1\" class=\"dataframe\">\n",
       "  <thead>\n",
       "    <tr style=\"text-align: right;\">\n",
       "      <th></th>\n",
       "      <th>col-a</th>\n",
       "      <th>col-b_x</th>\n",
       "      <th>col-c</th>\n",
       "      <th>col-b_y</th>\n",
       "      <th>col-d</th>\n",
       "    </tr>\n",
       "  </thead>\n",
       "  <tbody>\n",
       "    <tr>\n",
       "      <th>0</th>\n",
       "      <td>1</td>\n",
       "      <td>A</td>\n",
       "      <td>5</td>\n",
       "      <td>A</td>\n",
       "      <td>10</td>\n",
       "    </tr>\n",
       "    <tr>\n",
       "      <th>1</th>\n",
       "      <td>2</td>\n",
       "      <td>B</td>\n",
       "      <td>3</td>\n",
       "      <td>B</td>\n",
       "      <td>20</td>\n",
       "    </tr>\n",
       "    <tr>\n",
       "      <th>2</th>\n",
       "      <td>3</td>\n",
       "      <td>C</td>\n",
       "      <td>6</td>\n",
       "      <td>C</td>\n",
       "      <td>30</td>\n",
       "    </tr>\n",
       "    <tr>\n",
       "      <th>3</th>\n",
       "      <td>5</td>\n",
       "      <td>E</td>\n",
       "      <td>2</td>\n",
       "      <td>E</td>\n",
       "      <td>40</td>\n",
       "    </tr>\n",
       "    <tr>\n",
       "      <th>4</th>\n",
       "      <td>6</td>\n",
       "      <td>F</td>\n",
       "      <td>4</td>\n",
       "      <td>F</td>\n",
       "      <td>50</td>\n",
       "    </tr>\n",
       "  </tbody>\n",
       "</table>\n",
       "</div>"
      ],
      "text/plain": [
       "   col-a col-b_x  col-c col-b_y  col-d\n",
       "0      1       A      5       A     10\n",
       "1      2       B      3       B     20\n",
       "2      3       C      6       C     30\n",
       "3      5       E      2       E     40\n",
       "4      6       F      4       F     50"
      ]
     },
     "execution_count": 32,
     "metadata": {},
     "output_type": "execute_result"
    }
   ],
   "source": [
    "df3ona"
   ]
  },
  {
   "cell_type": "code",
   "execution_count": null,
   "id": "c3caaf31-8baf-4005-9a96-dfed95f6b906",
   "metadata": {},
   "outputs": [],
   "source": [
    "#reversed: inverte a ordem da coluna especificada"
   ]
  },
  {
   "cell_type": "code",
   "execution_count": 33,
   "id": "193af536-8406-4dba-ad5d-d4d0a81f40db",
   "metadata": {},
   "outputs": [],
   "source": [
    "dicionario1Rev = {\n",
    "'col-a':reversed(range(1,7)),\n",
    "                'col-b':['A','B','C','D','E','F'],\n",
    "                'col-c':[5,3,6,9,2,4]}\n",
    "df1Rev = pd.DataFrame(dicionario1Rev)\n",
    "dfcoincidentes1Rev=pd.merge(df1Rev,df2)"
   ]
  },
  {
   "cell_type": "code",
   "execution_count": 34,
   "id": "9d97150d-fc79-421b-b8a1-29db09cb1672",
   "metadata": {},
   "outputs": [
    {
     "data": {
      "text/html": [
       "<div>\n",
       "<style scoped>\n",
       "    .dataframe tbody tr th:only-of-type {\n",
       "        vertical-align: middle;\n",
       "    }\n",
       "\n",
       "    .dataframe tbody tr th {\n",
       "        vertical-align: top;\n",
       "    }\n",
       "\n",
       "    .dataframe thead th {\n",
       "        text-align: right;\n",
       "    }\n",
       "</style>\n",
       "<table border=\"1\" class=\"dataframe\">\n",
       "  <thead>\n",
       "    <tr style=\"text-align: right;\">\n",
       "      <th></th>\n",
       "      <th>col-a</th>\n",
       "      <th>col-b</th>\n",
       "      <th>col-c</th>\n",
       "    </tr>\n",
       "  </thead>\n",
       "  <tbody>\n",
       "    <tr>\n",
       "      <th>0</th>\n",
       "      <td>6</td>\n",
       "      <td>A</td>\n",
       "      <td>5</td>\n",
       "    </tr>\n",
       "    <tr>\n",
       "      <th>1</th>\n",
       "      <td>5</td>\n",
       "      <td>B</td>\n",
       "      <td>3</td>\n",
       "    </tr>\n",
       "    <tr>\n",
       "      <th>2</th>\n",
       "      <td>4</td>\n",
       "      <td>C</td>\n",
       "      <td>6</td>\n",
       "    </tr>\n",
       "    <tr>\n",
       "      <th>3</th>\n",
       "      <td>3</td>\n",
       "      <td>D</td>\n",
       "      <td>9</td>\n",
       "    </tr>\n",
       "    <tr>\n",
       "      <th>4</th>\n",
       "      <td>2</td>\n",
       "      <td>E</td>\n",
       "      <td>2</td>\n",
       "    </tr>\n",
       "    <tr>\n",
       "      <th>5</th>\n",
       "      <td>1</td>\n",
       "      <td>F</td>\n",
       "      <td>4</td>\n",
       "    </tr>\n",
       "  </tbody>\n",
       "</table>\n",
       "</div>"
      ],
      "text/plain": [
       "   col-a col-b  col-c\n",
       "0      6     A      5\n",
       "1      5     B      3\n",
       "2      4     C      6\n",
       "3      3     D      9\n",
       "4      2     E      2\n",
       "5      1     F      4"
      ]
     },
     "execution_count": 34,
     "metadata": {},
     "output_type": "execute_result"
    }
   ],
   "source": [
    "df1Rev"
   ]
  },
  {
   "cell_type": "code",
   "execution_count": null,
   "id": "b6c9537d-f4e2-4c8c-84e8-e66400eb867c",
   "metadata": {},
   "outputs": [],
   "source": [
    "#concat: usados para unir"
   ]
  },
  {
   "cell_type": "code",
   "execution_count": null,
   "id": "ddb87422-c7c3-4eb2-9c12-628376bf7890",
   "metadata": {},
   "outputs": [],
   "source": [
    "#describe: apresenta os valores"
   ]
  },
  {
   "cell_type": "code",
   "execution_count": null,
   "id": "4b935cfc-437d-4c35-9dad-6890028da0d5",
   "metadata": {},
   "outputs": [],
   "source": []
  }
 ],
 "metadata": {
  "kernelspec": {
   "display_name": "Python 3 (ipykernel)",
   "language": "python",
   "name": "python3"
  },
  "language_info": {
   "codemirror_mode": {
    "name": "ipython",
    "version": 3
   },
   "file_extension": ".py",
   "mimetype": "text/x-python",
   "name": "python",
   "nbconvert_exporter": "python",
   "pygments_lexer": "ipython3",
   "version": "3.10.6"
  }
 },
 "nbformat": 4,
 "nbformat_minor": 5
}
