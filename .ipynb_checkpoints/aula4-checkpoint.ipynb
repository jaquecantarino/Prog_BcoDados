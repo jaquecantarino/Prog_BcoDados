{
 "cells": [
  {
   "cell_type": "code",
   "execution_count": 1,
   "id": "feb982f2-5ff7-4334-a059-d8099ce3c535",
   "metadata": {},
   "outputs": [
    {
     "name": "stdout",
     "output_type": "stream",
     "text": [
      "0\n"
     ]
    }
   ],
   "source": [
    "x= int(1 / 3)\n",
    "print(x)"
   ]
  },
  {
   "cell_type": "code",
   "execution_count": 2,
   "id": "700d6cb6-927b-43cc-861c-1824abccc513",
   "metadata": {},
   "outputs": [
    {
     "name": "stdout",
     "output_type": "stream",
     "text": [
      "0.3333333333333333\n"
     ]
    }
   ],
   "source": [
    "x = float (1/3)\n",
    "print(x)"
   ]
  },
  {
   "cell_type": "code",
   "execution_count": 3,
   "id": "a7eb64f5-753e-460b-a7dc-6c1edfa44228",
   "metadata": {},
   "outputs": [
    {
     "ename": "SyntaxError",
     "evalue": "incomplete input (154571050.py, line 5)",
     "output_type": "error",
     "traceback": [
      "\u001b[1;36m  Input \u001b[1;32mIn [3]\u001b[1;36m\u001b[0m\n\u001b[1;33m    print(bin(z)\u001b[0m\n\u001b[1;37m                ^\u001b[0m\n\u001b[1;31mSyntaxError\u001b[0m\u001b[1;31m:\u001b[0m incomplete input\n"
     ]
    }
   ],
   "source": [
    "x = 42\n",
    "y = 0o10\n",
    "z = y+x\n",
    "print(z)\n",
    "print(bin(z)"
   ]
  },
  {
   "cell_type": "code",
   "execution_count": 4,
   "id": "4a975188-b834-461a-b401-6550c0475723",
   "metadata": {},
   "outputs": [
    {
     "name": "stdout",
     "output_type": "stream",
     "text": [
      "50\n",
      "0b110010\n"
     ]
    }
   ],
   "source": [
    "x = 42\n",
    "y = 0o10\n",
    "z = y+x\n",
    "print(z)\n",
    "print(bin(z))"
   ]
  },
  {
   "cell_type": "code",
   "execution_count": 5,
   "id": "e68519d1-9eaf-43d3-ac07-632fa97d7867",
   "metadata": {},
   "outputs": [
    {
     "name": "stdout",
     "output_type": "stream",
     "text": [
      "8\n"
     ]
    }
   ],
   "source": [
    "y = 0o10\n",
    "print(y)"
   ]
  },
  {
   "cell_type": "code",
   "execution_count": 6,
   "id": "240048b1-2bd5-4ac7-81f1-b0d952bd17d2",
   "metadata": {},
   "outputs": [
    {
     "data": {
      "text/plain": [
       "0.30000000000000004"
      ]
     },
     "execution_count": 6,
     "metadata": {},
     "output_type": "execute_result"
    }
   ],
   "source": [
    "0.1+0.1+0.1"
   ]
  },
  {
   "cell_type": "code",
   "execution_count": 7,
   "id": "466a1d11-43f3-4c59-9597-90c99f22350b",
   "metadata": {},
   "outputs": [],
   "source": [
    "import decimal"
   ]
  },
  {
   "cell_type": "code",
   "execution_count": 8,
   "id": "d859cf2b-4d6d-41bb-bfbc-1bdd7c6ca511",
   "metadata": {},
   "outputs": [
    {
     "name": "stdout",
     "output_type": "stream",
     "text": [
      "Este é o começo de uma linha\n",
      "que pode continuar na outra e \n",
      "ter mais uma linha\n"
     ]
    }
   ],
   "source": [
    "x = '''Este é o começo de uma linha\n",
    "que pode continuar na outra e \n",
    "ter mais uma linha'''\n",
    "print(x)"
   ]
  },
  {
   "cell_type": "code",
   "execution_count": 9,
   "id": "6a6100f5-98ba-44d6-a5e6-44f61f42faeb",
   "metadata": {},
   "outputs": [
    {
     "ename": "IndentationError",
     "evalue": "unexpected indent (2912744845.py, line 2)",
     "output_type": "error",
     "traceback": [
      "\u001b[1;36m  Input \u001b[1;32mIn [9]\u001b[1;36m\u001b[0m\n\u001b[1;33m    print(x)\u001b[0m\n\u001b[1;37m    ^\u001b[0m\n\u001b[1;31mIndentationError\u001b[0m\u001b[1;31m:\u001b[0m unexpected indent\n"
     ]
    }
   ],
   "source": [
    "x = '''Este é o começo de uma linha que pode continuar na outra e ter mais uma linha'''\n",
    "\t\tprint(x)"
   ]
  },
  {
   "cell_type": "code",
   "execution_count": 10,
   "id": "b46bed6c-f1bf-451a-95b3-6beb15eedd24",
   "metadata": {},
   "outputs": [
    {
     "name": "stdout",
     "output_type": "stream",
     "text": [
      "Este é o começo de uma linha\n",
      "que pode continuar na outra e \n",
      "ter mais uma linha\n"
     ]
    }
   ],
   "source": [
    "'''Este é o começo de uma linha que pode continuar na outra e ter mais uma linha'''\n",
    "print(x)"
   ]
  },
  {
   "cell_type": "code",
   "execution_count": 11,
   "id": "a19a63bf-b32f-475b-ba53-087531ed6852",
   "metadata": {},
   "outputs": [
    {
     "name": "stdout",
     "output_type": "stream",
     "text": [
      "á\n"
     ]
    }
   ],
   "source": [
    "a = \"Olá Mundo!\"\n",
    "print(a[2])"
   ]
  },
  {
   "cell_type": "code",
   "execution_count": 12,
   "id": "e22798d0-2803-47c1-b2fc-89dc6a3ce4fc",
   "metadata": {},
   "outputs": [
    {
     "name": "stdout",
     "output_type": "stream",
     "text": [
      " \n"
     ]
    }
   ],
   "source": [
    "a = \"Olá Mundo!\"\n",
    "print(a[3])"
   ]
  },
  {
   "cell_type": "code",
   "execution_count": 13,
   "id": "f5acca8a-d083-429c-8aba-d425984e6c18",
   "metadata": {},
   "outputs": [
    {
     "data": {
      "text/plain": [
       "1"
      ]
     },
     "execution_count": 13,
     "metadata": {},
     "output_type": "execute_result"
    }
   ],
   "source": [
    "a=\"Minha terra tem palmeiras, onde canta o sabiá. As aves que aqui gorjeiam, não gorjeiam como lá\"\n",
    "a.count('aves')"
   ]
  },
  {
   "cell_type": "code",
   "execution_count": 14,
   "id": "6495d94e-d166-4ee0-99a6-fce3479a57e1",
   "metadata": {},
   "outputs": [
    {
     "data": {
      "text/plain": [
       "2"
      ]
     },
     "execution_count": 14,
     "metadata": {},
     "output_type": "execute_result"
    }
   ],
   "source": [
    "a.count('gorjeiam')"
   ]
  },
  {
   "cell_type": "code",
   "execution_count": 15,
   "id": "5043fe12-c8ed-4076-ab4b-c7179d766d8a",
   "metadata": {},
   "outputs": [
    {
     "ename": "SyntaxError",
     "evalue": "invalid syntax (3075298194.py, line 1)",
     "output_type": "error",
     "traceback": [
      "\u001b[1;36m  Input \u001b[1;32mIn [15]\u001b[1;36m\u001b[0m\n\u001b[1;33m    a.find(sub[, start[, end]]) -> int\u001b[0m\n\u001b[1;37m               ^\u001b[0m\n\u001b[1;31mSyntaxError\u001b[0m\u001b[1;31m:\u001b[0m invalid syntax\n"
     ]
    }
   ],
   "source": [
    "a.find(sub[, start[, end]]) -> int"
   ]
  },
  {
   "cell_type": "code",
   "execution_count": 16,
   "id": "42eeb564-7f1a-46d6-81fd-74d3d182cdac",
   "metadata": {},
   "outputs": [
    {
     "data": {
      "text/plain": [
       "50"
      ]
     },
     "execution_count": 16,
     "metadata": {},
     "output_type": "execute_result"
    }
   ],
   "source": [
    "a.find('aves')"
   ]
  },
  {
   "cell_type": "code",
   "execution_count": 17,
   "id": "448b86b1-dc94-4214-a257-b850ba2eda41",
   "metadata": {},
   "outputs": [
    {
     "ename": "SyntaxError",
     "evalue": "invalid syntax (3979156728.py, line 1)",
     "output_type": "error",
     "traceback": [
      "\u001b[1;36m  Input \u001b[1;32mIn [17]\u001b[1;36m\u001b[0m\n\u001b[1;33m    a.find('aves'[, start[, end]]) -> int\u001b[0m\n\u001b[1;37m                  ^\u001b[0m\n\u001b[1;31mSyntaxError\u001b[0m\u001b[1;31m:\u001b[0m invalid syntax\n"
     ]
    }
   ],
   "source": [
    "a.find('aves'[, start[, end]]) -> int"
   ]
  },
  {
   "cell_type": "code",
   "execution_count": 18,
   "id": "7f90cdf4-3d31-4e10-af67-4166525bb15c",
   "metadata": {},
   "outputs": [],
   "source": [
    "a=('ave', 8, 'casa', 290,8)"
   ]
  },
  {
   "cell_type": "code",
   "execution_count": 19,
   "id": "30d0c2d0-45af-4e2e-adc5-2283f7216323",
   "metadata": {},
   "outputs": [
    {
     "data": {
      "text/plain": [
       "1"
      ]
     },
     "execution_count": 19,
     "metadata": {},
     "output_type": "execute_result"
    }
   ],
   "source": [
    "a.index(8)"
   ]
  },
  {
   "cell_type": "code",
   "execution_count": 20,
   "id": "c2fd9b15-dc8b-44a6-a83a-a7a9feab3b9e",
   "metadata": {},
   "outputs": [
    {
     "ename": "SyntaxError",
     "evalue": "unmatched ')' (1892715470.py, line 1)",
     "output_type": "error",
     "traceback": [
      "\u001b[1;36m  Input \u001b[1;32mIn [20]\u001b[1;36m\u001b[0m\n\u001b[1;33m    a='ave', 8, 'casa', 290, 8)\u001b[0m\n\u001b[1;37m                              ^\u001b[0m\n\u001b[1;31mSyntaxError\u001b[0m\u001b[1;31m:\u001b[0m unmatched ')'\n"
     ]
    }
   ],
   "source": [
    "a='ave', 8, 'casa', 290, 8)\n",
    "print(type(a))"
   ]
  },
  {
   "cell_type": "code",
   "execution_count": 21,
   "id": "f6f93afc-1cf5-45c8-95e0-3fd792c5fbac",
   "metadata": {},
   "outputs": [
    {
     "name": "stdout",
     "output_type": "stream",
     "text": [
      "<class 'tuple'>\n"
     ]
    }
   ],
   "source": [
    "a=('ave', 8, 'casa', 290, 8)\n",
    "print(type(a))"
   ]
  },
  {
   "cell_type": "code",
   "execution_count": 22,
   "id": "916feb66-55ec-4880-b70f-01804525f8dd",
   "metadata": {},
   "outputs": [
    {
     "name": "stdout",
     "output_type": "stream",
     "text": [
      "<class 'list'>\n"
     ]
    }
   ],
   "source": [
    "a=['ave', 8, 'casa', 290, 8]\n",
    "print(type(a))"
   ]
  },
  {
   "cell_type": "code",
   "execution_count": 23,
   "id": "95f5cf05-2a43-4124-8583-fe637c025099",
   "metadata": {},
   "outputs": [
    {
     "ename": "SyntaxError",
     "evalue": "invalid syntax (1182799786.py, line 1)",
     "output_type": "error",
     "traceback": [
      "\u001b[1;36m  Input \u001b[1;32mIn [23]\u001b[1;36m\u001b[0m\n\u001b[1;33m    for i int a:\u001b[0m\n\u001b[1;37m          ^\u001b[0m\n\u001b[1;31mSyntaxError\u001b[0m\u001b[1;31m:\u001b[0m invalid syntax\n"
     ]
    }
   ],
   "source": [
    "for i int a:\n",
    "    print(i)"
   ]
  },
  {
   "cell_type": "code",
   "execution_count": 24,
   "id": "1133b17f-306e-4e54-9546-634893b321fe",
   "metadata": {},
   "outputs": [
    {
     "name": "stdout",
     "output_type": "stream",
     "text": [
      "ave\n",
      "8\n",
      "casa\n",
      "290\n",
      "8\n"
     ]
    }
   ],
   "source": [
    "for i in a:\n",
    "    print(i)"
   ]
  },
  {
   "cell_type": "code",
   "execution_count": 25,
   "id": "839f0bfa-1e77-438a-ad9b-d4b458aab7ff",
   "metadata": {},
   "outputs": [
    {
     "data": {
      "text/plain": [
       "list"
      ]
     },
     "execution_count": 25,
     "metadata": {},
     "output_type": "execute_result"
    }
   ],
   "source": [
    "type(a)"
   ]
  },
  {
   "cell_type": "code",
   "execution_count": 26,
   "id": "badd756e-e62c-4db6-9650-74811e8c3b80",
   "metadata": {},
   "outputs": [
    {
     "ename": "SyntaxError",
     "evalue": "incomplete input (4166839383.py, line 2)",
     "output_type": "error",
     "traceback": [
      "\u001b[1;36m  Input \u001b[1;32mIn [26]\u001b[1;36m\u001b[0m\n\u001b[1;33m    ''' comentário\u001b[0m\n\u001b[1;37m    ^\u001b[0m\n\u001b[1;31mSyntaxError\u001b[0m\u001b[1;31m:\u001b[0m incomplete input\n"
     ]
    }
   ],
   "source": [
    "#este texto não será executado\n",
    "''' comentário "
   ]
  },
  {
   "cell_type": "code",
   "execution_count": 27,
   "id": "cc27704d-d6f4-4aab-ae1b-bf425c76b4d3",
   "metadata": {},
   "outputs": [
    {
     "data": {
      "text/plain": [
       "' comentário '"
      ]
     },
     "execution_count": 27,
     "metadata": {},
     "output_type": "execute_result"
    }
   ],
   "source": [
    "''' comentário '''"
   ]
  },
  {
   "cell_type": "code",
   "execution_count": null,
   "id": "3eb08273-a2fc-4729-b374-7d3bb1962eb2",
   "metadata": {},
   "outputs": [],
   "source": []
  }
 ],
 "metadata": {
  "kernelspec": {
   "display_name": "Python 3 (ipykernel)",
   "language": "python",
   "name": "python3"
  },
  "language_info": {
   "codemirror_mode": {
    "name": "ipython",
    "version": 3
   },
   "file_extension": ".py",
   "mimetype": "text/x-python",
   "name": "python",
   "nbconvert_exporter": "python",
   "pygments_lexer": "ipython3",
   "version": "3.10.6"
  }
 },
 "nbformat": 4,
 "nbformat_minor": 5
}
