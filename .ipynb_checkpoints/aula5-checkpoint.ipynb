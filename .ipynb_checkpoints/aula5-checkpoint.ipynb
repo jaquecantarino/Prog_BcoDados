{
 "cells": [
  {
   "cell_type": "code",
   "execution_count": 6,
   "id": "87e815e5-dc53-4bb0-8a94-5d90e25a258e",
   "metadata": {},
   "outputs": [],
   "source": [
    "import pandas as pd"
   ]
  },
  {
   "cell_type": "code",
   "execution_count": 27,
   "id": "0e232cad-c566-4dd1-84dd-8a53e9be6e78",
   "metadata": {},
   "outputs": [],
   "source": [
    "serieA = pd.Series(['asa', 'bico', 'casa', 'dado', 'erro'])"
   ]
  },
  {
   "cell_type": "code",
   "execution_count": 28,
   "id": "ecfbe440-4373-448c-9a3a-3504780e33ae",
   "metadata": {},
   "outputs": [],
   "source": [
    "indiceA = serieA.index"
   ]
  },
  {
   "cell_type": "code",
   "execution_count": 29,
   "id": "9afa0f1b-9adc-4f68-aa10-28958bb512c8",
   "metadata": {},
   "outputs": [
    {
     "name": "stdout",
     "output_type": "stream",
     "text": [
      "RangeIndex(start=0, stop=5, step=1)\n"
     ]
    }
   ],
   "source": [
    "print(indiceA)"
   ]
  },
  {
   "cell_type": "code",
   "execution_count": 30,
   "id": "99ac5d67-b683-43fa-add3-b86f481427ed",
   "metadata": {},
   "outputs": [
    {
     "data": {
      "text/plain": [
       "0     asa\n",
       "1    bico\n",
       "2    casa\n",
       "3    dado\n",
       "4    erro\n",
       "dtype: object"
      ]
     },
     "execution_count": 30,
     "metadata": {},
     "output_type": "execute_result"
    }
   ],
   "source": [
    "serieA"
   ]
  },
  {
   "cell_type": "code",
   "execution_count": 31,
   "id": "190577bf-496b-40b6-97d2-0e574ba8f754",
   "metadata": {},
   "outputs": [],
   "source": [
    "serieB = pd.Series([10,20,30,40,50])"
   ]
  },
  {
   "cell_type": "code",
   "execution_count": 32,
   "id": "e03004f4-c676-4122-9d64-107153fae21e",
   "metadata": {},
   "outputs": [],
   "source": [
    "indiceB = serieB.index"
   ]
  },
  {
   "cell_type": "code",
   "execution_count": 33,
   "id": "a2d725b4-7bac-4092-b924-ca27802dc382",
   "metadata": {},
   "outputs": [
    {
     "name": "stdout",
     "output_type": "stream",
     "text": [
      "RangeIndex(start=0, stop=5, step=1)\n"
     ]
    }
   ],
   "source": [
    "print(indiceB)"
   ]
  },
  {
   "cell_type": "code",
   "execution_count": 34,
   "id": "d66a7eab-3835-4f99-b1dc-8642fbc7ed23",
   "metadata": {},
   "outputs": [
    {
     "data": {
      "text/plain": [
       "0    10\n",
       "1    20\n",
       "2    30\n",
       "3    40\n",
       "4    50\n",
       "dtype: int64"
      ]
     },
     "execution_count": 34,
     "metadata": {},
     "output_type": "execute_result"
    }
   ],
   "source": [
    "serieB"
   ]
  },
  {
   "cell_type": "code",
   "execution_count": 35,
   "id": "18f455d5-cea4-47ea-a85c-13e5a3fdf73e",
   "metadata": {},
   "outputs": [],
   "source": [
    "serieC = pd.Series([10.2, 15.3,18.8])"
   ]
  },
  {
   "cell_type": "code",
   "execution_count": 36,
   "id": "3d360be1-3c12-40f5-bc7b-994af112e3fb",
   "metadata": {},
   "outputs": [],
   "source": [
    "indiceC = serieC.index"
   ]
  },
  {
   "cell_type": "code",
   "execution_count": 37,
   "id": "9819ac82-4d15-448c-a579-35817998e596",
   "metadata": {},
   "outputs": [
    {
     "name": "stdout",
     "output_type": "stream",
     "text": [
      "RangeIndex(start=0, stop=3, step=1)\n"
     ]
    }
   ],
   "source": [
    "print(indiceC)"
   ]
  },
  {
   "cell_type": "code",
   "execution_count": 38,
   "id": "1e613d18-1e0b-4811-8260-5af9752b4308",
   "metadata": {},
   "outputs": [
    {
     "data": {
      "text/plain": [
       "0    10.2\n",
       "1    15.3\n",
       "2    18.8\n",
       "dtype: float64"
      ]
     },
     "execution_count": 38,
     "metadata": {},
     "output_type": "execute_result"
    }
   ],
   "source": [
    "serieC"
   ]
  },
  {
   "cell_type": "code",
   "execution_count": 39,
   "id": "f16eb07e-2e5b-4a8d-a581-88d5ff4836db",
   "metadata": {},
   "outputs": [],
   "source": [
    "serieErro = pd.Series(serieB, index=serieA)"
   ]
  },
  {
   "cell_type": "code",
   "execution_count": 40,
   "id": "7d6db186-ef74-4947-8d06-53dd611de8e8",
   "metadata": {},
   "outputs": [],
   "source": [
    "indiceErro = serieErro.index"
   ]
  },
  {
   "cell_type": "code",
   "execution_count": 41,
   "id": "4c10c7fd-3354-43aa-98ec-62cb1855ed89",
   "metadata": {},
   "outputs": [
    {
     "data": {
      "text/plain": [
       "asa    NaN\n",
       "bico   NaN\n",
       "casa   NaN\n",
       "dado   NaN\n",
       "erro   NaN\n",
       "dtype: float64"
      ]
     },
     "execution_count": 41,
     "metadata": {},
     "output_type": "execute_result"
    }
   ],
   "source": [
    "serieErro"
   ]
  },
  {
   "cell_type": "code",
   "execution_count": null,
   "id": "b41ef358-6791-4767-a9e6-e8fbf91cf6ee",
   "metadata": {},
   "outputs": [],
   "source": [
    "#Posso fazer essa ligação, quando tenho listas, segue a mesma sintaxe#"
   ]
  },
  {
   "cell_type": "code",
   "execution_count": null,
   "id": "401abb82-92c0-467c-aaf3-7b9eab8624f4",
   "metadata": {},
   "outputs": [],
   "source": [
    "#Essa ligação só pode existir se ambas as listas tiverem o mesmo tamanho, se qualquer um dos dois tiver menor vai dar erro"
   ]
  },
  {
   "cell_type": "code",
   "execution_count": null,
   "id": "205feb34-7892-49ae-8ef5-dbc6010d27e0",
   "metadata": {},
   "outputs": [],
   "source": [
    "#mostrando a função type:"
   ]
  },
  {
   "cell_type": "code",
   "execution_count": 43,
   "id": "2f6d5f06-d7ad-4609-ab15-eaa8ea7c78ce",
   "metadata": {},
   "outputs": [],
   "source": [
    "a=1"
   ]
  },
  {
   "cell_type": "code",
   "execution_count": 44,
   "id": "ab8e88dc-173b-4a54-af8c-f3d45c9384d5",
   "metadata": {},
   "outputs": [
    {
     "data": {
      "text/plain": [
       "int"
      ]
     },
     "execution_count": 44,
     "metadata": {},
     "output_type": "execute_result"
    }
   ],
   "source": [
    "type(a)"
   ]
  },
  {
   "cell_type": "code",
   "execution_count": 45,
   "id": "2c5caf1c-5d9c-4557-91d7-d20efc8b6746",
   "metadata": {},
   "outputs": [
    {
     "name": "stdout",
     "output_type": "stream",
     "text": [
      "<class 'int'>\n"
     ]
    }
   ],
   "source": [
    "print(type(a))"
   ]
  },
  {
   "cell_type": "code",
   "execution_count": null,
   "id": "6ac2756b-9343-40c2-9393-3a92dbb478f5",
   "metadata": {},
   "outputs": [],
   "source": [
    "##"
   ]
  },
  {
   "cell_type": "code",
   "execution_count": 46,
   "id": "30c3da7e-f94a-4359-9357-d88df6204ab1",
   "metadata": {},
   "outputs": [],
   "source": [
    "indicesE = (10,20,30,40,50)\n",
    "valoresE = (100,200,300,400,500)"
   ]
  },
  {
   "cell_type": "code",
   "execution_count": 47,
   "id": "91765d51-99d8-4131-95f8-e303d5532d5a",
   "metadata": {},
   "outputs": [],
   "source": [
    "serieE = pd.Series(valoresE, index= indicesE)"
   ]
  },
  {
   "cell_type": "code",
   "execution_count": 48,
   "id": "8436a5c9-99bd-4f68-a9ec-ee162a0d1812",
   "metadata": {},
   "outputs": [],
   "source": [
    "indexE = serieE.index"
   ]
  },
  {
   "cell_type": "code",
   "execution_count": 49,
   "id": "87785bed-7a1c-41c0-8872-7925ca67a2af",
   "metadata": {},
   "outputs": [
    {
     "data": {
      "text/plain": [
       "Int64Index([10, 20, 30, 40, 50], dtype='int64')"
      ]
     },
     "execution_count": 49,
     "metadata": {},
     "output_type": "execute_result"
    }
   ],
   "source": [
    "indexE"
   ]
  },
  {
   "cell_type": "code",
   "execution_count": null,
   "id": "cac9ac79-7fb1-47f6-babe-bb79e5cc715c",
   "metadata": {},
   "outputs": [],
   "source": [
    "#Recuperando valores##"
   ]
  },
  {
   "cell_type": "code",
   "execution_count": 50,
   "id": "15ccb667-8947-49fd-af30-58af20172ffd",
   "metadata": {},
   "outputs": [
    {
     "data": {
      "text/plain": [
       "'bico'"
      ]
     },
     "execution_count": 50,
     "metadata": {},
     "output_type": "execute_result"
    }
   ],
   "source": [
    "serieA[1]"
   ]
  },
  {
   "cell_type": "code",
   "execution_count": null,
   "id": "4a3dd5ef-f5eb-4d73-854e-d94980669b52",
   "metadata": {},
   "outputs": [],
   "source": [
    "#mostrando o tamanho que você pode usar para percorrer os elementos"
   ]
  },
  {
   "cell_type": "code",
   "execution_count": 51,
   "id": "ebc0360f-6a60-4970-8453-5ca938760fb1",
   "metadata": {},
   "outputs": [
    {
     "data": {
      "text/plain": [
       "5"
      ]
     },
     "execution_count": 51,
     "metadata": {},
     "output_type": "execute_result"
    }
   ],
   "source": [
    "indiceA.size"
   ]
  },
  {
   "cell_type": "code",
   "execution_count": null,
   "id": "9a4643a4-c250-4790-ac21-e511e6a4332e",
   "metadata": {},
   "outputs": [],
   "source": []
  },
  {
   "cell_type": "code",
   "execution_count": null,
   "id": "7d90384f-44d0-44e8-b204-8a94f1d06432",
   "metadata": {},
   "outputs": [],
   "source": []
  },
  {
   "cell_type": "code",
   "execution_count": null,
   "id": "7bb79186-acb7-4d75-899a-a8b2f41f4f8b",
   "metadata": {},
   "outputs": [],
   "source": []
  },
  {
   "cell_type": "code",
   "execution_count": null,
   "id": "a7f74c5f-d585-4f7f-a529-f8e1b70c3644",
   "metadata": {},
   "outputs": [],
   "source": []
  },
  {
   "cell_type": "code",
   "execution_count": null,
   "id": "297a1eaa-8bc0-456d-8f67-1b3aa5178343",
   "metadata": {},
   "outputs": [],
   "source": []
  },
  {
   "cell_type": "code",
   "execution_count": null,
   "id": "10f05bce-0b1b-4711-865e-d1b5c18c89f1",
   "metadata": {},
   "outputs": [],
   "source": []
  },
  {
   "cell_type": "code",
   "execution_count": null,
   "id": "4d8c6838-bdf1-489e-8db3-213ff025974a",
   "metadata": {},
   "outputs": [],
   "source": []
  }
 ],
 "metadata": {
  "kernelspec": {
   "display_name": "Python 3 (ipykernel)",
   "language": "python",
   "name": "python3"
  },
  "language_info": {
   "codemirror_mode": {
    "name": "ipython",
    "version": 3
   },
   "file_extension": ".py",
   "mimetype": "text/x-python",
   "name": "python",
   "nbconvert_exporter": "python",
   "pygments_lexer": "ipython3",
   "version": "3.10.6"
  }
 },
 "nbformat": 4,
 "nbformat_minor": 5
}
